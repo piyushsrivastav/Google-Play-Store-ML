{
 "cells": [
  {
   "cell_type": "markdown",
   "id": "8275edca",
   "metadata": {},
   "source": [
    "###### This project has industry based dataset and problem statement, we are using advanced supervised learning techniques to work on it"
   ]
  },
  {
   "cell_type": "markdown",
   "id": "3934d849",
   "metadata": {},
   "source": [
    "### Google Store App Rating Prediction\n",
    "#### CONTEXT:\n",
    "The Play Store apps data has enormous potential to drive app-making businesses to success. However, many apps\n",
    "are being developed every single day and only a few of them become profitable. It is important for developers to be\n",
    "able to predict the success of their app and incorporate features which makes an app successful. We can collect app\n",
    "data and user ratings from the app stores and use it to extract insightful information. A machine learning model can be\n",
    "used to predict rating for a given app, which can be used to estimate success and scope of improvement.\n",
    "#### PROJECT OBJECTIVE:\n",
    "The Goal is to predict the rating for an app based on the given input features like size, number of downloads etc.\n",
    "#### DATA DESCRIPTION:\n",
    "Web scraped data of 10k Play Store apps for analyzing the Android market. Each app (row)\n",
    "has values for category, rating, size, and more.\n",
    "#### ATTRIBUTE INFORMATION:\n",
    "1. App: Application name\n",
    "2. Category: Category the app belongs to\n",
    "3. Rating: Overall user rating of the app\n",
    "4. Reviews: Number of user reviews for the app\n",
    "5. Size: Size of the app\n",
    "6. Installs: Number of user downloads/installs for the app\n",
    "7. Type: Paid or Free\n",
    "8. Price: Price of the app\n",
    "9. Content Rating: Age group the app is targeted at - Children / Mature 21+ / Adult\n",
    "10. Genres: An app can belong to multiple genres (apart from its main category). For eg, a musical family game\n",
    "will belong to Music, Game, Family genres.\n",
    "11. Last Updated: Date when the app was last updated on Play Store\n",
    "12. Current Ver: Current version of the app available on Play Store\n",
    "13. Android Ver: Min required Android version"
   ]
  },
  {
   "cell_type": "markdown",
   "id": "a86bc721",
   "metadata": {},
   "source": [
    "#### Steps to the project: [Total score: 20 points]\n",
    "1. Import required libraries and read the data: [ Score: 1 point ]\n",
    "- Import the required libraries and read the dataset.\n",
    "- Check the first few samples, shape, info of the data and try to familiarize yourself with different features."
   ]
  },
  {
   "cell_type": "code",
   "execution_count": 167,
   "id": "05336e58",
   "metadata": {},
   "outputs": [],
   "source": [
    "import pandas as pd\n",
    "import numpy as np\n",
    "import matplotlib.pyplot as plt\n",
    "import seaborn as sns\n",
    "import warnings\n",
    "warnings.filterwarnings('ignore')\n",
    "\n",
    "from sklearn.preprocessing import StandardScaler,LabelEncoder\n",
    "from scipy import stats\n",
    "from sklearn.cluster import KMeans\n",
    "from scipy.stats import zscore\n",
    "from scipy.spatial import distance\n",
    "from sklearn.decomposition import PCA\n",
    "from sklearn.model_selection import train_test_split\n",
    "from sklearn import preprocessing\n",
    "from sklearn.preprocessing import Normalizer\n",
    "from sklearn.preprocessing import StandardScaler, MinMaxScaler\n",
    "from sklearn.preprocessing import LabelEncoder\n",
    "from sklearn.tree import DecisionTreeClassifier\n",
    "from sklearn.ensemble import RandomForestClassifier,BaggingClassifier, AdaBoostClassifier, GradientBoostingClassifier, StackingClassifier\n",
    "from sklearn.metrics import accuracy_score,classification_report,confusion_matrix"
   ]
  },
  {
   "cell_type": "code",
   "execution_count": 168,
   "id": "3870c266",
   "metadata": {},
   "outputs": [
    {
     "data": {
      "text/html": [
       "<div>\n",
       "<style scoped>\n",
       "    .dataframe tbody tr th:only-of-type {\n",
       "        vertical-align: middle;\n",
       "    }\n",
       "\n",
       "    .dataframe tbody tr th {\n",
       "        vertical-align: top;\n",
       "    }\n",
       "\n",
       "    .dataframe thead th {\n",
       "        text-align: right;\n",
       "    }\n",
       "</style>\n",
       "<table border=\"1\" class=\"dataframe\">\n",
       "  <thead>\n",
       "    <tr style=\"text-align: right;\">\n",
       "      <th></th>\n",
       "      <th>App</th>\n",
       "      <th>Category</th>\n",
       "      <th>Rating</th>\n",
       "      <th>Reviews</th>\n",
       "      <th>Size</th>\n",
       "      <th>Installs</th>\n",
       "      <th>Type</th>\n",
       "      <th>Price</th>\n",
       "      <th>Content Rating</th>\n",
       "      <th>Genres</th>\n",
       "      <th>Last Updated</th>\n",
       "      <th>Current Ver</th>\n",
       "      <th>Android Ver</th>\n",
       "    </tr>\n",
       "  </thead>\n",
       "  <tbody>\n",
       "    <tr>\n",
       "      <th>0</th>\n",
       "      <td>Photo Editor &amp; Candy Camera &amp; Grid &amp; ScrapBook</td>\n",
       "      <td>ART_AND_DESIGN</td>\n",
       "      <td>4.1</td>\n",
       "      <td>159</td>\n",
       "      <td>19M</td>\n",
       "      <td>10,000+</td>\n",
       "      <td>Free</td>\n",
       "      <td>0</td>\n",
       "      <td>Everyone</td>\n",
       "      <td>Art &amp; Design</td>\n",
       "      <td>January 7, 2018</td>\n",
       "      <td>1.0.0</td>\n",
       "      <td>4.0.3 and up</td>\n",
       "    </tr>\n",
       "    <tr>\n",
       "      <th>1</th>\n",
       "      <td>Coloring book moana</td>\n",
       "      <td>ART_AND_DESIGN</td>\n",
       "      <td>3.9</td>\n",
       "      <td>967</td>\n",
       "      <td>14M</td>\n",
       "      <td>500,000+</td>\n",
       "      <td>Free</td>\n",
       "      <td>0</td>\n",
       "      <td>Everyone</td>\n",
       "      <td>Art &amp; Design;Pretend Play</td>\n",
       "      <td>January 15, 2018</td>\n",
       "      <td>2.0.0</td>\n",
       "      <td>4.0.3 and up</td>\n",
       "    </tr>\n",
       "    <tr>\n",
       "      <th>2</th>\n",
       "      <td>U Launcher Lite – FREE Live Cool Themes, Hide ...</td>\n",
       "      <td>ART_AND_DESIGN</td>\n",
       "      <td>4.7</td>\n",
       "      <td>87510</td>\n",
       "      <td>8.7M</td>\n",
       "      <td>5,000,000+</td>\n",
       "      <td>Free</td>\n",
       "      <td>0</td>\n",
       "      <td>Everyone</td>\n",
       "      <td>Art &amp; Design</td>\n",
       "      <td>August 1, 2018</td>\n",
       "      <td>1.2.4</td>\n",
       "      <td>4.0.3 and up</td>\n",
       "    </tr>\n",
       "    <tr>\n",
       "      <th>3</th>\n",
       "      <td>Sketch - Draw &amp; Paint</td>\n",
       "      <td>ART_AND_DESIGN</td>\n",
       "      <td>4.5</td>\n",
       "      <td>215644</td>\n",
       "      <td>25M</td>\n",
       "      <td>50,000,000+</td>\n",
       "      <td>Free</td>\n",
       "      <td>0</td>\n",
       "      <td>Teen</td>\n",
       "      <td>Art &amp; Design</td>\n",
       "      <td>June 8, 2018</td>\n",
       "      <td>Varies with device</td>\n",
       "      <td>4.2 and up</td>\n",
       "    </tr>\n",
       "    <tr>\n",
       "      <th>4</th>\n",
       "      <td>Pixel Draw - Number Art Coloring Book</td>\n",
       "      <td>ART_AND_DESIGN</td>\n",
       "      <td>4.3</td>\n",
       "      <td>967</td>\n",
       "      <td>2.8M</td>\n",
       "      <td>100,000+</td>\n",
       "      <td>Free</td>\n",
       "      <td>0</td>\n",
       "      <td>Everyone</td>\n",
       "      <td>Art &amp; Design;Creativity</td>\n",
       "      <td>June 20, 2018</td>\n",
       "      <td>1.1</td>\n",
       "      <td>4.4 and up</td>\n",
       "    </tr>\n",
       "  </tbody>\n",
       "</table>\n",
       "</div>"
      ],
      "text/plain": [
       "                                                 App        Category  Rating  \\\n",
       "0     Photo Editor & Candy Camera & Grid & ScrapBook  ART_AND_DESIGN     4.1   \n",
       "1                                Coloring book moana  ART_AND_DESIGN     3.9   \n",
       "2  U Launcher Lite – FREE Live Cool Themes, Hide ...  ART_AND_DESIGN     4.7   \n",
       "3                              Sketch - Draw & Paint  ART_AND_DESIGN     4.5   \n",
       "4              Pixel Draw - Number Art Coloring Book  ART_AND_DESIGN     4.3   \n",
       "\n",
       "  Reviews  Size     Installs  Type Price Content Rating  \\\n",
       "0     159   19M      10,000+  Free     0       Everyone   \n",
       "1     967   14M     500,000+  Free     0       Everyone   \n",
       "2   87510  8.7M   5,000,000+  Free     0       Everyone   \n",
       "3  215644   25M  50,000,000+  Free     0           Teen   \n",
       "4     967  2.8M     100,000+  Free     0       Everyone   \n",
       "\n",
       "                      Genres      Last Updated         Current Ver  \\\n",
       "0               Art & Design   January 7, 2018               1.0.0   \n",
       "1  Art & Design;Pretend Play  January 15, 2018               2.0.0   \n",
       "2               Art & Design    August 1, 2018               1.2.4   \n",
       "3               Art & Design      June 8, 2018  Varies with device   \n",
       "4    Art & Design;Creativity     June 20, 2018                 1.1   \n",
       "\n",
       "    Android Ver  \n",
       "0  4.0.3 and up  \n",
       "1  4.0.3 and up  \n",
       "2  4.0.3 and up  \n",
       "3    4.2 and up  \n",
       "4    4.4 and up  "
      ]
     },
     "execution_count": 168,
     "metadata": {},
     "output_type": "execute_result"
    }
   ],
   "source": [
    "df=pd.read_csv('Apps_data.csv')\n",
    "df.head()"
   ]
  },
  {
   "cell_type": "code",
   "execution_count": 169,
   "id": "0ebd300b",
   "metadata": {},
   "outputs": [
    {
     "name": "stdout",
     "output_type": "stream",
     "text": [
      "<class 'pandas.core.frame.DataFrame'>\n",
      "RangeIndex: 10841 entries, 0 to 10840\n",
      "Data columns (total 13 columns):\n",
      " #   Column          Non-Null Count  Dtype  \n",
      "---  ------          --------------  -----  \n",
      " 0   App             10841 non-null  object \n",
      " 1   Category        10841 non-null  object \n",
      " 2   Rating          9367 non-null   float64\n",
      " 3   Reviews         10841 non-null  object \n",
      " 4   Size            10841 non-null  object \n",
      " 5   Installs        10841 non-null  object \n",
      " 6   Type            10840 non-null  object \n",
      " 7   Price           10841 non-null  object \n",
      " 8   Content Rating  10840 non-null  object \n",
      " 9   Genres          10841 non-null  object \n",
      " 10  Last Updated    10841 non-null  object \n",
      " 11  Current Ver     10833 non-null  object \n",
      " 12  Android Ver     10838 non-null  object \n",
      "dtypes: float64(1), object(12)\n",
      "memory usage: 1.1+ MB\n"
     ]
    },
    {
     "data": {
      "text/html": [
       "<div>\n",
       "<style scoped>\n",
       "    .dataframe tbody tr th:only-of-type {\n",
       "        vertical-align: middle;\n",
       "    }\n",
       "\n",
       "    .dataframe tbody tr th {\n",
       "        vertical-align: top;\n",
       "    }\n",
       "\n",
       "    .dataframe thead th {\n",
       "        text-align: right;\n",
       "    }\n",
       "</style>\n",
       "<table border=\"1\" class=\"dataframe\">\n",
       "  <thead>\n",
       "    <tr style=\"text-align: right;\">\n",
       "      <th></th>\n",
       "      <th>Rating</th>\n",
       "    </tr>\n",
       "  </thead>\n",
       "  <tbody>\n",
       "    <tr>\n",
       "      <th>count</th>\n",
       "      <td>9367.000000</td>\n",
       "    </tr>\n",
       "    <tr>\n",
       "      <th>mean</th>\n",
       "      <td>4.193338</td>\n",
       "    </tr>\n",
       "    <tr>\n",
       "      <th>std</th>\n",
       "      <td>0.537431</td>\n",
       "    </tr>\n",
       "    <tr>\n",
       "      <th>min</th>\n",
       "      <td>1.000000</td>\n",
       "    </tr>\n",
       "    <tr>\n",
       "      <th>25%</th>\n",
       "      <td>4.000000</td>\n",
       "    </tr>\n",
       "    <tr>\n",
       "      <th>50%</th>\n",
       "      <td>4.300000</td>\n",
       "    </tr>\n",
       "    <tr>\n",
       "      <th>75%</th>\n",
       "      <td>4.500000</td>\n",
       "    </tr>\n",
       "    <tr>\n",
       "      <th>max</th>\n",
       "      <td>19.000000</td>\n",
       "    </tr>\n",
       "  </tbody>\n",
       "</table>\n",
       "</div>"
      ],
      "text/plain": [
       "            Rating\n",
       "count  9367.000000\n",
       "mean      4.193338\n",
       "std       0.537431\n",
       "min       1.000000\n",
       "25%       4.000000\n",
       "50%       4.300000\n",
       "75%       4.500000\n",
       "max      19.000000"
      ]
     },
     "execution_count": 169,
     "metadata": {},
     "output_type": "execute_result"
    }
   ],
   "source": [
    "df.info()\n",
    "\n",
    "df.describe()"
   ]
  },
  {
   "cell_type": "code",
   "execution_count": 170,
   "id": "5c9d845b",
   "metadata": {},
   "outputs": [
    {
     "data": {
      "text/plain": [
       "Index(['App', 'Category', 'Rating', 'Reviews', 'Size', 'Installs', 'Type',\n",
       "       'Price', 'Content Rating', 'Genres', 'Last Updated', 'Current Ver',\n",
       "       'Android Ver'],\n",
       "      dtype='object')"
      ]
     },
     "execution_count": 170,
     "metadata": {},
     "output_type": "execute_result"
    }
   ],
   "source": [
    "df.columns"
   ]
  },
  {
   "cell_type": "code",
   "execution_count": 171,
   "id": "88675e05",
   "metadata": {},
   "outputs": [
    {
     "data": {
      "text/plain": [
       "(10841, 13)"
      ]
     },
     "execution_count": 171,
     "metadata": {},
     "output_type": "execute_result"
    }
   ],
   "source": [
    "df.shape"
   ]
  },
  {
   "cell_type": "markdown",
   "id": "0bbdd6bb",
   "metadata": {},
   "source": [
    "#### 2. Data cleansing and Exploratory data analysis: [ Score: 10 points ]\n",
    "- Check summary statistics of the dataset. List out the columns that need to be worked upon for model building.\n",
    "- Check if there are any duplicate records in the dataset? if any drop them.\n",
    "- Check the unique categories of the column 'Category', Is there are any invalid category? If yes drop them.\n",
    "- Check if there are missing values present in the column Rating, If any? drop them and Convert ratings to high\n",
    "and low categories(>3.5 is high rest low) and store it in a new column ‘Rating_category’.\n",
    "- Check the distribution of the newly created column 'Rating_category' and comment on the distribution.\n",
    "- Convert the column \"Reviews\" to numeric datatype and check the presence of outliers in the column and\n",
    "handle the outliers using transformation approach.\n",
    "- The column 'Size' contains alphanumeric values, handle the non numeric data and convert the column into\n",
    "suitable datatype. (hint: Replace M with 1 million and K with 1 thousand, and drop/impute the entries where\n",
    "size='Varies with device').\n",
    "- Check the column 'Installs', handle the unwanted characters and convert the column into suitable dataype.\n",
    "- Check the column 'Price', remove the unwanted characters and convert the column into suitable datatype."
   ]
  },
  {
   "cell_type": "code",
   "execution_count": 172,
   "id": "4520d1bd",
   "metadata": {},
   "outputs": [
    {
     "data": {
      "text/html": [
       "<div>\n",
       "<style scoped>\n",
       "    .dataframe tbody tr th:only-of-type {\n",
       "        vertical-align: middle;\n",
       "    }\n",
       "\n",
       "    .dataframe tbody tr th {\n",
       "        vertical-align: top;\n",
       "    }\n",
       "\n",
       "    .dataframe thead th {\n",
       "        text-align: right;\n",
       "    }\n",
       "</style>\n",
       "<table border=\"1\" class=\"dataframe\">\n",
       "  <thead>\n",
       "    <tr style=\"text-align: right;\">\n",
       "      <th></th>\n",
       "      <th>Rating</th>\n",
       "    </tr>\n",
       "  </thead>\n",
       "  <tbody>\n",
       "    <tr>\n",
       "      <th>count</th>\n",
       "      <td>9367.000000</td>\n",
       "    </tr>\n",
       "    <tr>\n",
       "      <th>mean</th>\n",
       "      <td>4.193338</td>\n",
       "    </tr>\n",
       "    <tr>\n",
       "      <th>std</th>\n",
       "      <td>0.537431</td>\n",
       "    </tr>\n",
       "    <tr>\n",
       "      <th>min</th>\n",
       "      <td>1.000000</td>\n",
       "    </tr>\n",
       "    <tr>\n",
       "      <th>25%</th>\n",
       "      <td>4.000000</td>\n",
       "    </tr>\n",
       "    <tr>\n",
       "      <th>50%</th>\n",
       "      <td>4.300000</td>\n",
       "    </tr>\n",
       "    <tr>\n",
       "      <th>75%</th>\n",
       "      <td>4.500000</td>\n",
       "    </tr>\n",
       "    <tr>\n",
       "      <th>max</th>\n",
       "      <td>19.000000</td>\n",
       "    </tr>\n",
       "  </tbody>\n",
       "</table>\n",
       "</div>"
      ],
      "text/plain": [
       "            Rating\n",
       "count  9367.000000\n",
       "mean      4.193338\n",
       "std       0.537431\n",
       "min       1.000000\n",
       "25%       4.000000\n",
       "50%       4.300000\n",
       "75%       4.500000\n",
       "max      19.000000"
      ]
     },
     "execution_count": 172,
     "metadata": {},
     "output_type": "execute_result"
    }
   ],
   "source": [
    "df.describe()"
   ]
  },
  {
   "cell_type": "code",
   "execution_count": 173,
   "id": "288b4e87",
   "metadata": {},
   "outputs": [
    {
     "data": {
      "text/html": [
       "<div>\n",
       "<style scoped>\n",
       "    .dataframe tbody tr th:only-of-type {\n",
       "        vertical-align: middle;\n",
       "    }\n",
       "\n",
       "    .dataframe tbody tr th {\n",
       "        vertical-align: top;\n",
       "    }\n",
       "\n",
       "    .dataframe thead th {\n",
       "        text-align: right;\n",
       "    }\n",
       "</style>\n",
       "<table border=\"1\" class=\"dataframe\">\n",
       "  <thead>\n",
       "    <tr style=\"text-align: right;\">\n",
       "      <th></th>\n",
       "      <th>App</th>\n",
       "      <th>Category</th>\n",
       "      <th>Reviews</th>\n",
       "      <th>Size</th>\n",
       "      <th>Installs</th>\n",
       "      <th>Type</th>\n",
       "      <th>Price</th>\n",
       "      <th>Content Rating</th>\n",
       "      <th>Genres</th>\n",
       "      <th>Last Updated</th>\n",
       "      <th>Current Ver</th>\n",
       "      <th>Android Ver</th>\n",
       "    </tr>\n",
       "  </thead>\n",
       "  <tbody>\n",
       "    <tr>\n",
       "      <th>count</th>\n",
       "      <td>10841</td>\n",
       "      <td>10841</td>\n",
       "      <td>10841</td>\n",
       "      <td>10841</td>\n",
       "      <td>10841</td>\n",
       "      <td>10840</td>\n",
       "      <td>10841</td>\n",
       "      <td>10840</td>\n",
       "      <td>10841</td>\n",
       "      <td>10841</td>\n",
       "      <td>10833</td>\n",
       "      <td>10838</td>\n",
       "    </tr>\n",
       "    <tr>\n",
       "      <th>unique</th>\n",
       "      <td>9660</td>\n",
       "      <td>34</td>\n",
       "      <td>6002</td>\n",
       "      <td>462</td>\n",
       "      <td>22</td>\n",
       "      <td>3</td>\n",
       "      <td>93</td>\n",
       "      <td>6</td>\n",
       "      <td>120</td>\n",
       "      <td>1378</td>\n",
       "      <td>2832</td>\n",
       "      <td>33</td>\n",
       "    </tr>\n",
       "    <tr>\n",
       "      <th>top</th>\n",
       "      <td>ROBLOX</td>\n",
       "      <td>FAMILY</td>\n",
       "      <td>0</td>\n",
       "      <td>Varies with device</td>\n",
       "      <td>1,000,000+</td>\n",
       "      <td>Free</td>\n",
       "      <td>0</td>\n",
       "      <td>Everyone</td>\n",
       "      <td>Tools</td>\n",
       "      <td>August 3, 2018</td>\n",
       "      <td>Varies with device</td>\n",
       "      <td>4.1 and up</td>\n",
       "    </tr>\n",
       "    <tr>\n",
       "      <th>freq</th>\n",
       "      <td>9</td>\n",
       "      <td>1972</td>\n",
       "      <td>596</td>\n",
       "      <td>1695</td>\n",
       "      <td>1579</td>\n",
       "      <td>10039</td>\n",
       "      <td>10040</td>\n",
       "      <td>8714</td>\n",
       "      <td>842</td>\n",
       "      <td>326</td>\n",
       "      <td>1459</td>\n",
       "      <td>2451</td>\n",
       "    </tr>\n",
       "  </tbody>\n",
       "</table>\n",
       "</div>"
      ],
      "text/plain": [
       "           App Category Reviews                Size    Installs   Type  Price  \\\n",
       "count    10841    10841   10841               10841       10841  10840  10841   \n",
       "unique    9660       34    6002                 462          22      3     93   \n",
       "top     ROBLOX   FAMILY       0  Varies with device  1,000,000+   Free      0   \n",
       "freq         9     1972     596                1695        1579  10039  10040   \n",
       "\n",
       "       Content Rating Genres    Last Updated         Current Ver Android Ver  \n",
       "count           10840  10841           10841               10833       10838  \n",
       "unique              6    120            1378                2832          33  \n",
       "top          Everyone  Tools  August 3, 2018  Varies with device  4.1 and up  \n",
       "freq             8714    842             326                1459        2451  "
      ]
     },
     "execution_count": 173,
     "metadata": {},
     "output_type": "execute_result"
    }
   ],
   "source": [
    "df.describe(include=['O'])"
   ]
  },
  {
   "cell_type": "code",
   "execution_count": 174,
   "id": "7212dd46",
   "metadata": {},
   "outputs": [
    {
     "data": {
      "text/plain": [
       "483"
      ]
     },
     "execution_count": 174,
     "metadata": {},
     "output_type": "execute_result"
    }
   ],
   "source": [
    "#Dulicate\n",
    "df.duplicated().sum()"
   ]
  },
  {
   "cell_type": "code",
   "execution_count": 175,
   "id": "0b1ace41",
   "metadata": {},
   "outputs": [
    {
     "data": {
      "text/plain": [
       "10358"
      ]
     },
     "execution_count": 175,
     "metadata": {},
     "output_type": "execute_result"
    }
   ],
   "source": [
    "#Droping Duplicate value from dataset\n",
    "df = df.drop_duplicates()\n",
    "len(df)"
   ]
  },
  {
   "cell_type": "code",
   "execution_count": 176,
   "id": "03841a65",
   "metadata": {},
   "outputs": [
    {
     "data": {
      "text/plain": [
       "FAMILY                 1943\n",
       "GAME                   1121\n",
       "TOOLS                   843\n",
       "BUSINESS                427\n",
       "MEDICAL                 408\n",
       "PRODUCTIVITY            407\n",
       "PERSONALIZATION         388\n",
       "LIFESTYLE               373\n",
       "COMMUNICATION           366\n",
       "FINANCE                 360\n",
       "SPORTS                  351\n",
       "PHOTOGRAPHY             322\n",
       "HEALTH_AND_FITNESS      306\n",
       "SOCIAL                  280\n",
       "NEWS_AND_MAGAZINES      264\n",
       "TRAVEL_AND_LOCAL        237\n",
       "BOOKS_AND_REFERENCE     230\n",
       "SHOPPING                224\n",
       "DATING                  196\n",
       "VIDEO_PLAYERS           175\n",
       "MAPS_AND_NAVIGATION     137\n",
       "EDUCATION               130\n",
       "FOOD_AND_DRINK          124\n",
       "ENTERTAINMENT           111\n",
       "LIBRARIES_AND_DEMO       85\n",
       "AUTO_AND_VEHICLES        85\n",
       "WEATHER                  82\n",
       "HOUSE_AND_HOME           80\n",
       "ART_AND_DESIGN           65\n",
       "EVENTS                   64\n",
       "PARENTING                60\n",
       "COMICS                   60\n",
       "BEAUTY                   53\n",
       "1.9                       1\n",
       "Name: Category, dtype: int64"
      ]
     },
     "execution_count": 176,
     "metadata": {},
     "output_type": "execute_result"
    }
   ],
   "source": [
    "# unique categories of the column 'Category'\n",
    "df.Category.value_counts()"
   ]
  },
  {
   "cell_type": "code",
   "execution_count": 177,
   "id": "236392d1",
   "metadata": {},
   "outputs": [
    {
     "data": {
      "text/plain": [
       "array(['ART_AND_DESIGN', 'AUTO_AND_VEHICLES', 'BEAUTY',\n",
       "       'BOOKS_AND_REFERENCE', 'BUSINESS', 'COMICS', 'COMMUNICATION',\n",
       "       'DATING', 'EDUCATION', 'ENTERTAINMENT', 'EVENTS', 'FINANCE',\n",
       "       'FOOD_AND_DRINK', 'HEALTH_AND_FITNESS', 'HOUSE_AND_HOME',\n",
       "       'LIBRARIES_AND_DEMO', 'LIFESTYLE', 'GAME', 'FAMILY', 'MEDICAL',\n",
       "       'SOCIAL', 'SHOPPING', 'PHOTOGRAPHY', 'SPORTS', 'TRAVEL_AND_LOCAL',\n",
       "       'TOOLS', 'PERSONALIZATION', 'PRODUCTIVITY', 'PARENTING', 'WEATHER',\n",
       "       'VIDEO_PLAYERS', 'NEWS_AND_MAGAZINES', 'MAPS_AND_NAVIGATION',\n",
       "       '1.9'], dtype=object)"
      ]
     },
     "execution_count": 177,
     "metadata": {},
     "output_type": "execute_result"
    }
   ],
   "source": [
    "df['Category'].unique()"
   ]
  },
  {
   "cell_type": "markdown",
   "id": "c3b00dbb",
   "metadata": {},
   "source": [
    "#### '1.9' is wrong value. So I have to remove row where '1.9' exists"
   ]
  },
  {
   "cell_type": "code",
   "execution_count": 178,
   "id": "96209543",
   "metadata": {},
   "outputs": [],
   "source": [
    "df = df[df['Category'] != '1.9']"
   ]
  },
  {
   "cell_type": "code",
   "execution_count": 179,
   "id": "75895e3a",
   "metadata": {},
   "outputs": [
    {
     "data": {
      "text/plain": [
       "array(['ART_AND_DESIGN', 'AUTO_AND_VEHICLES', 'BEAUTY',\n",
       "       'BOOKS_AND_REFERENCE', 'BUSINESS', 'COMICS', 'COMMUNICATION',\n",
       "       'DATING', 'EDUCATION', 'ENTERTAINMENT', 'EVENTS', 'FINANCE',\n",
       "       'FOOD_AND_DRINK', 'HEALTH_AND_FITNESS', 'HOUSE_AND_HOME',\n",
       "       'LIBRARIES_AND_DEMO', 'LIFESTYLE', 'GAME', 'FAMILY', 'MEDICAL',\n",
       "       'SOCIAL', 'SHOPPING', 'PHOTOGRAPHY', 'SPORTS', 'TRAVEL_AND_LOCAL',\n",
       "       'TOOLS', 'PERSONALIZATION', 'PRODUCTIVITY', 'PARENTING', 'WEATHER',\n",
       "       'VIDEO_PLAYERS', 'NEWS_AND_MAGAZINES', 'MAPS_AND_NAVIGATION'],\n",
       "      dtype=object)"
      ]
     },
     "execution_count": 179,
     "metadata": {},
     "output_type": "execute_result"
    }
   ],
   "source": [
    "df['Category'].unique()"
   ]
  },
  {
   "cell_type": "code",
   "execution_count": 180,
   "id": "abb23b71",
   "metadata": {},
   "outputs": [
    {
     "data": {
      "text/plain": [
       "array([4.1, 3.9, 4.7, 4.5, 4.3, 4.4, 3.8, 4.2, 4.6, 3.2, 4. , nan, 4.8,\n",
       "       4.9, 3.6, 3.7, 3.3, 3.4, 3.5, 3.1, 5. , 2.6, 3. , 1.9, 2.5, 2.8,\n",
       "       2.7, 1. , 2.9, 2.3, 2.2, 1.7, 2. , 1.8, 2.4, 1.6, 2.1, 1.4, 1.5,\n",
       "       1.2])"
      ]
     },
     "execution_count": 180,
     "metadata": {},
     "output_type": "execute_result"
    }
   ],
   "source": [
    "df['Rating'].unique()"
   ]
  },
  {
   "cell_type": "code",
   "execution_count": 181,
   "id": "8d5c255b",
   "metadata": {},
   "outputs": [
    {
     "data": {
      "text/plain": [
       "dtype('float64')"
      ]
     },
     "execution_count": 181,
     "metadata": {},
     "output_type": "execute_result"
    }
   ],
   "source": [
    "df['Rating'].dtype"
   ]
  },
  {
   "cell_type": "code",
   "execution_count": 182,
   "id": "0f594e39",
   "metadata": {},
   "outputs": [
    {
     "data": {
      "text/plain": [
       "1465"
      ]
     },
     "execution_count": 182,
     "metadata": {},
     "output_type": "execute_result"
    }
   ],
   "source": [
    "df['Rating'].isnull().sum()"
   ]
  },
  {
   "cell_type": "code",
   "execution_count": 183,
   "id": "3210c8ce",
   "metadata": {},
   "outputs": [],
   "source": [
    "#Rating New Category\n",
    "df['Rating_category'] = np.where(df['Rating']> 3.5,'high','low')"
   ]
  },
  {
   "cell_type": "code",
   "execution_count": 184,
   "id": "71fda8b1",
   "metadata": {},
   "outputs": [
    {
     "data": {
      "text/plain": [
       "array(['159', '967', '87510', ..., '603', '1195', '398307'], dtype=object)"
      ]
     },
     "execution_count": 184,
     "metadata": {},
     "output_type": "execute_result"
    }
   ],
   "source": [
    "df['Reviews'].unique()"
   ]
  },
  {
   "cell_type": "code",
   "execution_count": 185,
   "id": "5b0afcf0",
   "metadata": {},
   "outputs": [
    {
     "data": {
      "text/html": [
       "<div>\n",
       "<style scoped>\n",
       "    .dataframe tbody tr th:only-of-type {\n",
       "        vertical-align: middle;\n",
       "    }\n",
       "\n",
       "    .dataframe tbody tr th {\n",
       "        vertical-align: top;\n",
       "    }\n",
       "\n",
       "    .dataframe thead th {\n",
       "        text-align: right;\n",
       "    }\n",
       "</style>\n",
       "<table border=\"1\" class=\"dataframe\">\n",
       "  <thead>\n",
       "    <tr style=\"text-align: right;\">\n",
       "      <th></th>\n",
       "      <th>App</th>\n",
       "      <th>Category</th>\n",
       "      <th>Rating</th>\n",
       "      <th>Reviews</th>\n",
       "      <th>Size</th>\n",
       "      <th>Installs</th>\n",
       "      <th>Type</th>\n",
       "      <th>Price</th>\n",
       "      <th>Content Rating</th>\n",
       "      <th>Genres</th>\n",
       "      <th>Last Updated</th>\n",
       "      <th>Current Ver</th>\n",
       "      <th>Android Ver</th>\n",
       "      <th>Rating_category</th>\n",
       "    </tr>\n",
       "  </thead>\n",
       "  <tbody>\n",
       "  </tbody>\n",
       "</table>\n",
       "</div>"
      ],
      "text/plain": [
       "Empty DataFrame\n",
       "Columns: [App, Category, Rating, Reviews, Size, Installs, Type, Price, Content Rating, Genres, Last Updated, Current Ver, Android Ver, Rating_category]\n",
       "Index: []"
      ]
     },
     "execution_count": 185,
     "metadata": {},
     "output_type": "execute_result"
    }
   ],
   "source": [
    "df[df['Reviews'] =='3.0M']"
   ]
  },
  {
   "cell_type": "code",
   "execution_count": 186,
   "id": "33371507",
   "metadata": {},
   "outputs": [],
   "source": [
    "df['Size'] = df.Size.apply(lambda x: x.strip('+'))# Removing the + Sign"
   ]
  },
  {
   "cell_type": "code",
   "execution_count": 187,
   "id": "419fc10d",
   "metadata": {},
   "outputs": [],
   "source": [
    "df['Size'] = df.Size.apply(lambda x: x.replace(',', ''))# For removing the `,`"
   ]
  },
  {
   "cell_type": "code",
   "execution_count": 188,
   "id": "f0d978d9",
   "metadata": {},
   "outputs": [],
   "source": [
    "df['Size'] = df.Size.apply(lambda x: x.replace(',', ''))# For removing the `,`"
   ]
  },
  {
   "cell_type": "code",
   "execution_count": 189,
   "id": "e5d92325",
   "metadata": {},
   "outputs": [],
   "source": [
    "df['Size'] = df.Size.apply(lambda x: x.replace('M', 'e+6'))# For converting the M to Mega"
   ]
  },
  {
   "cell_type": "code",
   "execution_count": 190,
   "id": "495b63ff",
   "metadata": {},
   "outputs": [],
   "source": [
    "df['Size'] = df.Size.apply(lambda x: x.replace('k', 'e+3'))# For convertinf the K to Kilo"
   ]
  },
  {
   "cell_type": "code",
   "execution_count": null,
   "id": "3d81cb82",
   "metadata": {},
   "outputs": [],
   "source": []
  },
  {
   "cell_type": "code",
   "execution_count": 191,
   "id": "49383d68",
   "metadata": {},
   "outputs": [],
   "source": [
    "# df['Reviews'] = df.Reviews.replace(\"0.0\",0)\n",
    "# df['Reviews'] = df.Reviews.replace(\"3.0M\",3000000.0)\n",
    "# df['Reviews'] = df['Reviews'].astype(float)\n",
    "# df['Reviews'].dtype"
   ]
  },
  {
   "cell_type": "code",
   "execution_count": 192,
   "id": "ec6e1f08",
   "metadata": {},
   "outputs": [
    {
     "data": {
      "text/plain": [
       "array(['19e+6', '14e+6', '8.7e+6', '25e+6', '2.8e+6', '5.6e+6', '29e+6',\n",
       "       '33e+6', '3.1e+6', '28e+6', '12e+6', '20e+6', '21e+6', '37e+6',\n",
       "       '2.7e+6', '5.5e+6', '17e+6', '39e+6', '31e+6', '4.2e+6', '7.0e+6',\n",
       "       '23e+6', '6.0e+6', '6.1e+6', '4.6e+6', '9.2e+6', '5.2e+6', '11e+6',\n",
       "       '24e+6', 'Varies with device', '9.4e+6', '15e+6', '10e+6',\n",
       "       '1.2e+6', '26e+6', '8.0e+6', '7.9e+6', '56e+6', '57e+6', '35e+6',\n",
       "       '54e+6', '201e+3', '3.6e+6', '5.7e+6', '8.6e+6', '2.4e+6', '27e+6',\n",
       "       '2.5e+6', '16e+6', '3.4e+6', '8.9e+6', '3.9e+6', '2.9e+6', '38e+6',\n",
       "       '32e+6', '5.4e+6', '18e+6', '1.1e+6', '2.2e+6', '4.5e+6', '9.8e+6',\n",
       "       '52e+6', '9.0e+6', '6.7e+6', '30e+6', '2.6e+6', '7.1e+6', '3.7e+6',\n",
       "       '22e+6', '7.4e+6', '6.4e+6', '3.2e+6', '8.2e+6', '9.9e+6',\n",
       "       '4.9e+6', '9.5e+6', '5.0e+6', '5.9e+6', '13e+6', '73e+6', '6.8e+6',\n",
       "       '3.5e+6', '4.0e+6', '2.3e+6', '7.2e+6', '2.1e+6', '42e+6',\n",
       "       '7.3e+6', '9.1e+6', '55e+6', '23e+3', '6.5e+6', '1.5e+6', '7.5e+6',\n",
       "       '51e+6', '41e+6', '48e+6', '8.5e+6', '46e+6', '8.3e+6', '4.3e+6',\n",
       "       '4.7e+6', '3.3e+6', '40e+6', '7.8e+6', '8.8e+6', '6.6e+6',\n",
       "       '5.1e+6', '61e+6', '66e+6', '79e+3', '8.4e+6', '118e+3', '44e+6',\n",
       "       '695e+3', '1.6e+6', '6.2e+6', '18e+3', '53e+6', '1.4e+6', '3.0e+6',\n",
       "       '5.8e+6', '3.8e+6', '9.6e+6', '45e+6', '63e+6', '49e+6', '77e+6',\n",
       "       '4.4e+6', '4.8e+6', '70e+6', '6.9e+6', '9.3e+6', '10.0e+6',\n",
       "       '8.1e+6', '36e+6', '84e+6', '97e+6', '2.0e+6', '1.9e+6', '1.8e+6',\n",
       "       '5.3e+6', '47e+6', '556e+3', '526e+3', '76e+6', '7.6e+6', '59e+6',\n",
       "       '9.7e+6', '78e+6', '72e+6', '43e+6', '7.7e+6', '6.3e+6', '334e+3',\n",
       "       '34e+6', '93e+6', '65e+6', '79e+6', '100e+6', '58e+6', '50e+6',\n",
       "       '68e+6', '64e+6', '67e+6', '60e+6', '94e+6', '232e+3', '99e+6',\n",
       "       '624e+3', '95e+6', '8.5e+3', '41e+3', '292e+3', '11e+3', '80e+6',\n",
       "       '1.7e+6', '74e+6', '62e+6', '69e+6', '75e+6', '98e+6', '85e+6',\n",
       "       '82e+6', '96e+6', '87e+6', '71e+6', '86e+6', '91e+6', '81e+6',\n",
       "       '92e+6', '83e+6', '88e+6', '704e+3', '862e+3', '899e+3', '378e+3',\n",
       "       '266e+3', '375e+3', '1.3e+6', '975e+3', '980e+3', '4.1e+6',\n",
       "       '89e+6', '696e+3', '544e+3', '525e+3', '920e+3', '779e+3',\n",
       "       '853e+3', '720e+3', '713e+3', '772e+3', '318e+3', '58e+3',\n",
       "       '241e+3', '196e+3', '857e+3', '51e+3', '953e+3', '865e+3',\n",
       "       '251e+3', '930e+3', '540e+3', '313e+3', '746e+3', '203e+3',\n",
       "       '26e+3', '314e+3', '239e+3', '371e+3', '220e+3', '730e+3',\n",
       "       '756e+3', '91e+3', '293e+3', '17e+3', '74e+3', '14e+3', '317e+3',\n",
       "       '78e+3', '924e+3', '902e+3', '818e+3', '81e+3', '939e+3', '169e+3',\n",
       "       '45e+3', '475e+3', '965e+3', '90e+6', '545e+3', '61e+3', '283e+3',\n",
       "       '655e+3', '714e+3', '93e+3', '872e+3', '121e+3', '322e+3',\n",
       "       '1.0e+6', '976e+3', '172e+3', '238e+3', '549e+3', '206e+3',\n",
       "       '954e+3', '444e+3', '717e+3', '210e+3', '609e+3', '308e+3',\n",
       "       '705e+3', '306e+3', '904e+3', '473e+3', '175e+3', '350e+3',\n",
       "       '383e+3', '454e+3', '421e+3', '70e+3', '812e+3', '442e+3',\n",
       "       '842e+3', '417e+3', '412e+3', '459e+3', '478e+3', '335e+3',\n",
       "       '782e+3', '721e+3', '430e+3', '429e+3', '192e+3', '200e+3',\n",
       "       '460e+3', '728e+3', '496e+3', '816e+3', '414e+3', '506e+3',\n",
       "       '887e+3', '613e+3', '243e+3', '569e+3', '778e+3', '683e+3',\n",
       "       '592e+3', '319e+3', '186e+3', '840e+3', '647e+3', '191e+3',\n",
       "       '373e+3', '437e+3', '598e+3', '716e+3', '585e+3', '982e+3',\n",
       "       '222e+3', '219e+3', '55e+3', '948e+3', '323e+3', '691e+3',\n",
       "       '511e+3', '951e+3', '963e+3', '25e+3', '554e+3', '351e+3', '27e+3',\n",
       "       '82e+3', '208e+3', '913e+3', '514e+3', '551e+3', '29e+3', '103e+3',\n",
       "       '898e+3', '743e+3', '116e+3', '153e+3', '209e+3', '353e+3',\n",
       "       '499e+3', '173e+3', '597e+3', '809e+3', '122e+3', '411e+3',\n",
       "       '400e+3', '801e+3', '787e+3', '237e+3', '50e+3', '643e+3',\n",
       "       '986e+3', '97e+3', '516e+3', '837e+3', '780e+3', '961e+3',\n",
       "       '269e+3', '20e+3', '498e+3', '600e+3', '749e+3', '642e+3',\n",
       "       '881e+3', '72e+3', '656e+3', '601e+3', '221e+3', '228e+3',\n",
       "       '108e+3', '940e+3', '176e+3', '33e+3', '663e+3', '34e+3', '942e+3',\n",
       "       '259e+3', '164e+3', '458e+3', '245e+3', '629e+3', '28e+3',\n",
       "       '288e+3', '775e+3', '785e+3', '636e+3', '916e+3', '994e+3',\n",
       "       '309e+3', '485e+3', '914e+3', '903e+3', '608e+3', '500e+3',\n",
       "       '54e+3', '562e+3', '847e+3', '957e+3', '688e+3', '811e+3',\n",
       "       '270e+3', '48e+3', '329e+3', '523e+3', '921e+3', '874e+3',\n",
       "       '981e+3', '784e+3', '280e+3', '24e+3', '518e+3', '754e+3',\n",
       "       '892e+3', '154e+3', '860e+3', '364e+3', '387e+3', '626e+3',\n",
       "       '161e+3', '879e+3', '39e+3', '970e+3', '170e+3', '141e+3',\n",
       "       '160e+3', '144e+3', '143e+3', '190e+3', '376e+3', '193e+3',\n",
       "       '246e+3', '73e+3', '658e+3', '992e+3', '253e+3', '420e+3',\n",
       "       '404e+3', '470e+3', '226e+3', '240e+3', '89e+3', '234e+3',\n",
       "       '257e+3', '861e+3', '467e+3', '157e+3', '44e+3', '676e+3', '67e+3',\n",
       "       '552e+3', '885e+3', '1020e+3', '582e+3', '619e+3'], dtype=object)"
      ]
     },
     "execution_count": 192,
     "metadata": {},
     "output_type": "execute_result"
    }
   ],
   "source": [
    "df['Size'].unique()"
   ]
  },
  {
   "cell_type": "markdown",
   "id": "07cc1c45",
   "metadata": {},
   "source": [
    "Data type of Size is object. I have to convert the column because it contains the application sizes. Firstly I will change 'Varies with device' value with NAN. Then I drop 'M' and 'k', changing from '1000+' to 1000. Finally, I convert float value."
   ]
  },
  {
   "cell_type": "code",
   "execution_count": 193,
   "id": "6e0a178d",
   "metadata": {},
   "outputs": [
    {
     "data": {
      "text/plain": [
       "dtype('float64')"
      ]
     },
     "execution_count": 193,
     "metadata": {},
     "output_type": "execute_result"
    }
   ],
   "source": [
    "df['Size'] = df.Size.replace(\"Varies with device\",np.nan)\n",
    "df['Size'] = df.Size.str.replace(\"M\",\"000\") # All size values became the kilobyte type.\n",
    "df['Size'] = df.Size.str.replace(\"k\",\"\")\n",
    "df['Size'] = df.Size.replace(\"1,000+\",1000)\n",
    "df['Size'] =df['Size'].astype(float)\n",
    "df['Size'].dtype"
   ]
  },
  {
   "cell_type": "code",
   "execution_count": 194,
   "id": "094721df",
   "metadata": {},
   "outputs": [
    {
     "data": {
      "text/plain": [
       "array(['10,000+', '500,000+', '5,000,000+', '50,000,000+', '100,000+',\n",
       "       '50,000+', '1,000,000+', '10,000,000+', '5,000+', '100,000,000+',\n",
       "       '1,000,000,000+', '1,000+', '500,000,000+', '50+', '100+', '500+',\n",
       "       '10+', '1+', '5+', '0+', '0'], dtype=object)"
      ]
     },
     "execution_count": 194,
     "metadata": {},
     "output_type": "execute_result"
    }
   ],
   "source": [
    "df['Installs'].unique()"
   ]
  },
  {
   "cell_type": "markdown",
   "id": "956ecba6",
   "metadata": {},
   "source": [
    "Data type of Size is object. I'm gonna make similar processes, which I made the in 'Size'."
   ]
  },
  {
   "cell_type": "code",
   "execution_count": 195,
   "id": "558ae8dd",
   "metadata": {},
   "outputs": [
    {
     "data": {
      "text/plain": [
       "dtype('float64')"
      ]
     },
     "execution_count": 195,
     "metadata": {},
     "output_type": "execute_result"
    }
   ],
   "source": [
    "df['Installs'] = df.Installs.str.replace(\",\",\"\")\n",
    "df['Installs'] = df.Installs.str.replace(\"+\",\"\")\n",
    "df['Installs'] = df.Installs.replace(\"Free\",np.nan)\n",
    "df['Installs'] = df['Installs'].astype(float)\n",
    "df['Installs'].dtype"
   ]
  },
  {
   "cell_type": "code",
   "execution_count": 196,
   "id": "4931652f",
   "metadata": {},
   "outputs": [
    {
     "data": {
      "text/plain": [
       "array(['0', '$4.99', '$3.99', '$6.99', '$1.49', '$2.99', '$7.99', '$5.99',\n",
       "       '$3.49', '$1.99', '$9.99', '$7.49', '$0.99', '$9.00', '$5.49',\n",
       "       '$10.00', '$24.99', '$11.99', '$79.99', '$16.99', '$14.99',\n",
       "       '$1.00', '$29.99', '$12.99', '$2.49', '$10.99', '$1.50', '$19.99',\n",
       "       '$15.99', '$33.99', '$74.99', '$39.99', '$3.95', '$4.49', '$1.70',\n",
       "       '$8.99', '$2.00', '$3.88', '$25.99', '$399.99', '$17.99',\n",
       "       '$400.00', '$3.02', '$1.76', '$4.84', '$4.77', '$1.61', '$2.50',\n",
       "       '$1.59', '$6.49', '$1.29', '$5.00', '$13.99', '$299.99', '$379.99',\n",
       "       '$37.99', '$18.99', '$389.99', '$19.90', '$8.49', '$1.75',\n",
       "       '$14.00', '$4.85', '$46.99', '$109.99', '$154.99', '$3.08',\n",
       "       '$2.59', '$4.80', '$1.96', '$19.40', '$3.90', '$4.59', '$15.46',\n",
       "       '$3.04', '$4.29', '$2.60', '$3.28', '$4.60', '$28.99', '$2.95',\n",
       "       '$2.90', '$1.97', '$200.00', '$89.99', '$2.56', '$30.99', '$3.61',\n",
       "       '$394.99', '$1.26', '$1.20', '$1.04'], dtype=object)"
      ]
     },
     "execution_count": 196,
     "metadata": {},
     "output_type": "execute_result"
    }
   ],
   "source": [
    "df['Price'].unique()"
   ]
  },
  {
   "cell_type": "code",
   "execution_count": 197,
   "id": "70bf7c69",
   "metadata": {},
   "outputs": [
    {
     "data": {
      "text/plain": [
       "dtype('float64')"
      ]
     },
     "execution_count": 197,
     "metadata": {},
     "output_type": "execute_result"
    }
   ],
   "source": [
    "df['Price'] = df.Price.replace(\"Everyone\",np.nan)\n",
    "df['Price'] = df.Price.str.replace(\"$\",\"\").astype(float)\n",
    "df['Price'].dtype"
   ]
  },
  {
   "cell_type": "code",
   "execution_count": 198,
   "id": "eef491af",
   "metadata": {},
   "outputs": [
    {
     "data": {
      "text/plain": [
       "<AxesSubplot:xlabel='Rating', ylabel='Count'>"
      ]
     },
     "execution_count": 198,
     "metadata": {},
     "output_type": "execute_result"
    },
    {
     "data": {
      "image/png": "[encoded data removed]",
      "text/plain": [
       "<Figure size 432x288 with 1 Axes>"
      ]
     },
     "metadata": {
      "needs_background": "light"
     },
     "output_type": "display_data"
    }
   ],
   "source": [
    "# Rating distribution of all apps, for comparsion\n",
    "sns.histplot(df['Rating'], kde=True)"
   ]
  },
  {
   "cell_type": "code",
   "execution_count": 199,
   "id": "57d5a1d9",
   "metadata": {},
   "outputs": [
    {
     "data": {
      "text/plain": [
       "<AxesSubplot:xlabel='Rating', ylabel='Count'>"
      ]
     },
     "execution_count": 199,
     "metadata": {},
     "output_type": "execute_result"
    },
    {
     "data": {
      "image/png": "[encoded data removed]",
      "text/plain": [
       "<Figure size 432x288 with 1 Axes>"
      ]
     },
     "metadata": {
      "needs_background": "light"
     },
     "output_type": "display_data"
    }
   ],
   "source": [
    "# Rating distribution of all paid apps\n",
    "all_paid = df[df['Type'] == 'Paid']\n",
    "sns.histplot(all_paid['Rating'], kde=True)"
   ]
  },
  {
   "cell_type": "markdown",
   "id": "9ebf5f1b",
   "metadata": {},
   "source": [
    "The graphs above have no distinctive features. Although there are some slight discrepancies in the height of the KDE curve, the graphs are nontheless similar."
   ]
  },
  {
   "cell_type": "code",
   "execution_count": 200,
   "id": "5bc938df",
   "metadata": {},
   "outputs": [
    {
     "data": {
      "image/png": "[encoded data removed]",
      "text/plain": [
       "<Figure size 432x288 with 1 Axes>"
      ]
     },
     "metadata": {
      "needs_background": "light"
     },
     "output_type": "display_data"
    }
   ],
   "source": [
    "#Rating_Category distribution\n",
    "ax = sns.histplot(df['Rating_category'])\n",
    "\n",
    "\n",
    "for p in ax.patches:\n",
    "   ax.annotate('{:.1f}'.format(p.get_height()), (p.get_x()+0.25, p.get_height()+0.01))\n",
    "\n",
    "\n",
    "plt.show()"
   ]
  },
  {
   "cell_type": "code",
   "execution_count": 201,
   "id": "7d314e55",
   "metadata": {},
   "outputs": [
    {
     "data": {
      "image/png": "[encoded data removed]",
      "text/plain": [
       "<Figure size 432x288 with 1 Axes>"
      ]
     },
     "metadata": {
      "needs_background": "light"
     },
     "output_type": "display_data"
    },
    {
     "name": "stdout",
     "output_type": "stream",
     "text": [
      "count    1.035700e+04\n",
      "mean     4.059046e+05\n",
      "std      2.696778e+06\n",
      "min      0.000000e+00\n",
      "25%      3.200000e+01\n",
      "50%      1.680000e+03\n",
      "75%      4.641600e+04\n",
      "max      7.815831e+07\n",
      "Name: Reviews, dtype: float64\n"
     ]
    }
   ],
   "source": [
    "# apply standardization\n",
    "df.Reviews =df.Reviews.astype(int)\n",
    "#ax = df.Reviews.plot.box()\n",
    "sns.boxplot(x=df['Reviews'])\n",
    "plt.show()\n",
    "print(df.Reviews.describe())\n",
    "#Log Transformation \n",
    "df.Reviews = np.log(df.Reviews)"
   ]
  },
  {
   "cell_type": "code",
   "execution_count": 202,
   "id": "0863894a",
   "metadata": {},
   "outputs": [
    {
     "data": {
      "image/png": "[encoded data removed]",
      "text/plain": [
       "<Figure size 432x288 with 1 Axes>"
      ]
     },
     "metadata": {
      "needs_background": "light"
     },
     "output_type": "display_data"
    },
    {
     "name": "stdout",
     "output_type": "stream",
     "text": [
      "count    1.035700e+04\n",
      "mean             -inf\n",
      "std               NaN\n",
      "min              -inf\n",
      "25%      3.465736e+00\n",
      "50%      7.426549e+00\n",
      "75%      1.074540e+01\n",
      "max      1.817425e+01\n",
      "Name: Reviews, dtype: float64\n"
     ]
    }
   ],
   "source": [
    "sns.boxplot(x=df['Reviews'])\n",
    "plt.show()\n",
    "print(df.Reviews.describe())"
   ]
  },
  {
   "cell_type": "markdown",
   "id": "57ed4ab3",
   "metadata": {},
   "source": [
    "### Distribution of Ratings"
   ]
  },
  {
   "cell_type": "code",
   "execution_count": 203,
   "id": "e792b395",
   "metadata": {},
   "outputs": [
    {
     "data": {
      "image/png": "[encoded data removed]",
      "text/plain": [
       "<Figure size 432x288 with 1 Axes>"
      ]
     },
     "metadata": {
      "needs_background": "light"
     },
     "output_type": "display_data"
    },
    {
     "data": {
      "image/png": "[encoded data removed]",
      "text/plain": [
       "<Figure size 432x288 with 1 Axes>"
      ]
     },
     "metadata": {
      "needs_background": "light"
     },
     "output_type": "display_data"
    },
    {
     "data": {
      "image/png": "[encoded data removed]",
      "text/plain": [
       "<Figure size 432x288 with 1 Axes>"
      ]
     },
     "metadata": {
      "needs_background": "light"
     },
     "output_type": "display_data"
    },
    {
     "data": {
      "image/png": "[encoded data removed]",
      "text/plain": [
       "<Figure size 432x288 with 1 Axes>"
      ]
     },
     "metadata": {
      "needs_background": "light"
     },
     "output_type": "display_data"
    },
    {
     "data": {
      "image/png": "[encoded data removed]",
      "text/plain": [
       "<Figure size 432x288 with 1 Axes>"
      ]
     },
     "metadata": {
      "needs_background": "light"
     },
     "output_type": "display_data"
    },
    {
     "data": {
      "image/png": "[encoded data removed]",
      "text/plain": [
       "<Figure size 432x288 with 1 Axes>"
      ]
     },
     "metadata": {
      "needs_background": "light"
     },
     "output_type": "display_data"
    }
   ],
   "source": [
    "crs = ['Adults only 18+', 'Everyone', 'Everyone 10+', 'Mature 17+', 'Teen', 'Unrated']\n",
    "\n",
    "for i in crs:\n",
    "    matches = df[df['Content Rating'] == i]\n",
    "    sns.histplot(matches.Rating, kde=True).set(title=f'Distribution of {i}')\n",
    "    plt.show()"
   ]
  },
  {
   "cell_type": "markdown",
   "id": "bf47e1cc",
   "metadata": {},
   "source": [
    "The awkward graphs of Adults only 18+ and Unrated are caused by the relatively small numbers of apps assigned to that category. Nevertheless, we can see that the distribution is slightly skewed all the while being mostly normal."
   ]
  },
  {
   "cell_type": "markdown",
   "id": "9d73942c",
   "metadata": {},
   "source": [
    "#### Type vs. Score"
   ]
  },
  {
   "cell_type": "code",
   "execution_count": 204,
   "id": "cc387d6d",
   "metadata": {},
   "outputs": [
    {
     "data": {
      "text/html": [
       "<div>\n",
       "<style scoped>\n",
       "    .dataframe tbody tr th:only-of-type {\n",
       "        vertical-align: middle;\n",
       "    }\n",
       "\n",
       "    .dataframe tbody tr th {\n",
       "        vertical-align: top;\n",
       "    }\n",
       "\n",
       "    .dataframe thead th {\n",
       "        text-align: right;\n",
       "    }\n",
       "</style>\n",
       "<table border=\"1\" class=\"dataframe\">\n",
       "  <thead>\n",
       "    <tr style=\"text-align: right;\">\n",
       "      <th></th>\n",
       "      <th>Type</th>\n",
       "      <th>Rating</th>\n",
       "      <th>Installs</th>\n",
       "    </tr>\n",
       "  </thead>\n",
       "  <tbody>\n",
       "    <tr>\n",
       "      <th>0</th>\n",
       "      <td>Free</td>\n",
       "      <td>4.182425</td>\n",
       "      <td>1.528127e+07</td>\n",
       "    </tr>\n",
       "    <tr>\n",
       "      <th>1</th>\n",
       "      <td>Paid</td>\n",
       "      <td>4.261501</td>\n",
       "      <td>9.049135e+04</td>\n",
       "    </tr>\n",
       "  </tbody>\n",
       "</table>\n",
       "</div>"
      ],
      "text/plain": [
       "   Type    Rating      Installs\n",
       "0  Free  4.182425  1.528127e+07\n",
       "1  Paid  4.261501  9.049135e+04"
      ]
     },
     "execution_count": 204,
     "metadata": {},
     "output_type": "execute_result"
    }
   ],
   "source": [
    "# Group the data by `type`, aggregating the average `rating`, and `installs` for each type.\n",
    "type_score = df.groupby(\"Type\").aggregate({\"Rating\": \"mean\", \"Installs\": \"mean\"})\n",
    "type_score.reset_index(inplace=True)\n",
    "type_score.head()"
   ]
  },
  {
   "cell_type": "code",
   "execution_count": 205,
   "id": "9e76295f",
   "metadata": {},
   "outputs": [
    {
     "data": {
      "text/plain": [
       "[Text(0.5, 0, 'Type'),\n",
       " Text(0, 0.5, 'Rating'),\n",
       " Text(0.5, 1.0, 'Type vs. Rating')]"
      ]
     },
     "execution_count": 205,
     "metadata": {},
     "output_type": "execute_result"
    },
    {
     "data": {
      "image/png": "[encoded data removed]",
      "text/plain": [
       "<Figure size 432x288 with 1 Axes>"
      ]
     },
     "metadata": {
      "needs_background": "light"
     },
     "output_type": "display_data"
    }
   ],
   "source": [
    "# RAting\n",
    "sns.barplot(x='Type', y='Rating', data=type_score, palette='mako').set(xlabel='Type', ylabel='Rating', title='Type vs. Rating')"
   ]
  },
  {
   "cell_type": "markdown",
   "id": "66b473c7",
   "metadata": {},
   "source": [
    "As visible in the graph above, the average rating for each type is approximately the same. While this result may seem counterintuitive to some, a reasonable process is unknowingly employed to judge most apps accurately. The average user generally rates based on sheer user experience, not on the price or the number of installations.\n",
    "\n",
    "However, two anomalous cases conveniently counteract each other. Both cases result from experiences with paid apps yet entail different emotions. The first of these cases results from pungent dissatisfaction. If a user felt an app was not delivering the appropriate amount of quality for its price, the user, not overall disappointed with the quality of the app, would write a negative review and leave a rating toward the lower end of the spectrum. In contrast, the other case is the product of abounding appreciation for a particular application. In this scenario, the user feels the app is too good for its price, thus giving it a higher rating. These two contrasting cases effectively cancel each other out, resulting in a moderately accurate average rating for the paid apps."
   ]
  },
  {
   "cell_type": "code",
   "execution_count": 206,
   "id": "e59a855d",
   "metadata": {},
   "outputs": [
    {
     "data": {
      "text/plain": [
       "[Text(0.5, 0, 'Type'),\n",
       " Text(0, 0.5, 'Installs'),\n",
       " Text(0.5, 1.0, 'Type vs. Installs')]"
      ]
     },
     "execution_count": 206,
     "metadata": {},
     "output_type": "execute_result"
    },
    {
     "data": {
      "image/png": "[encoded data removed]",
      "text/plain": [
       "<Figure size 432x288 with 1 Axes>"
      ]
     },
     "metadata": {
      "needs_background": "light"
     },
     "output_type": "display_data"
    }
   ],
   "source": [
    "# Installs\n",
    "sns.barplot(x='Type', y='Installs', palette='mako', data=type_score).set(xlabel='Type', ylabel='Installs', title='Type vs. Installs')"
   ]
  },
  {
   "cell_type": "markdown",
   "id": "ea8de68f",
   "metadata": {},
   "source": [
    "As expected, free apps are much more likely to be installed than paid apps. The difference between the two categories is incredibly high. I expected a patent difference, but not one this pronounced.\n",
    "\n",
    "On a bit of a side note, these two graphs underscore why installs and rating were picked as the two metrics for this exploratory data analysis. While they may initially seem tightly correlated and futile in conjunction, the preceding graphs differentiate them, each providing benefits to the exploration.\n",
    "\n",
    "The two previous graphs provided a high-level overview of the relationship between type and one of the scoring metrics. However, in search of a mostly complete picture, we will not only need a high-level overview but one that provides insight into distributions of each type within each scoring metric. This subsequent analysis will help us identify any additional and potentially overlooked nuance."
   ]
  },
  {
   "cell_type": "code",
   "execution_count": 207,
   "id": "aad94ad7",
   "metadata": {},
   "outputs": [
    {
     "data": {
      "image/png": "[encoded data removed]",
      "text/plain": [
       "<Figure size 1080x720 with 1 Axes>"
      ]
     },
     "metadata": {
      "needs_background": "light"
     },
     "output_type": "display_data"
    }
   ],
   "source": [
    "category_list = list(df['Category'].unique())\n",
    "category_review = []\n",
    "for i in category_list:\n",
    "    x = df[df['Category'] == i]\n",
    "    if(len(x)!=0):\n",
    "        review = sum(x.Reviews)/len(x)\n",
    "        category_review.append(review)\n",
    "    else:\n",
    "        review = sum(x.Reviews)\n",
    "        category_review.append(review)\n",
    "#sorting\n",
    "data_category_reviews = pd.DataFrame({'category': category_list,'review':category_review})\n",
    "new_index = (data_category_reviews['review'].sort_values(ascending=False)).index.values\n",
    "sorted_data =data_category_reviews.reindex(new_index)\n",
    "\n",
    "# visualization\n",
    "plt.figure(figsize=(15,10))\n",
    "sns.barplot(x=sorted_data['category'], y=sorted_data['review'])\n",
    "plt.xticks(rotation=80)\n",
    "plt.xlabel(\"Category\")\n",
    "plt.ylabel(\"Reviews\")\n",
    "plt.title(\"Category and Reviews\")\n",
    "plt.show()"
   ]
  },
  {
   "cell_type": "code",
   "execution_count": 208,
   "id": "1da4cfbf",
   "metadata": {},
   "outputs": [
    {
     "data": {
      "image/png": "[encoded data removed]",
      "text/plain": [
       "<Figure size 1080x720 with 1 Axes>"
      ]
     },
     "metadata": {
      "needs_background": "light"
     },
     "output_type": "display_data"
    }
   ],
   "source": [
    "category_list = list(df['Category'].unique())\n",
    "category_install = []\n",
    "for i in category_list:\n",
    "    x = df[df['Category'] == i]\n",
    "    if(len(x)!=0):\n",
    "        install = sum(x.Installs)/len(x)\n",
    "        category_install.append(install)\n",
    "    else:\n",
    "        install = sum(x.Installs)\n",
    "        category_install.append(install)\n",
    "        \n",
    "#sorting\n",
    "data_category_install = pd.DataFrame({'category': category_list,'install':category_install})\n",
    "new_index = (data_category_install['install'].sort_values(ascending=False)).index.values\n",
    "sorted_data =data_category_install.reindex(new_index)\n",
    "\n",
    "# visualization\n",
    "plt.figure(figsize=(15,10))\n",
    "sns.barplot(x=sorted_data['category'], y=sorted_data['install'])\n",
    "plt.xticks(rotation=80)\n",
    "plt.xlabel(\"Category\")\n",
    "plt.ylabel(\"Install\")\n",
    "plt.title(\"Category and Install\")\n",
    "plt.show()"
   ]
  },
  {
   "cell_type": "code",
   "execution_count": null,
   "id": "9447f1b2",
   "metadata": {},
   "outputs": [],
   "source": []
  },
  {
   "cell_type": "code",
   "execution_count": 209,
   "id": "9f2a3f70",
   "metadata": {},
   "outputs": [
    {
     "data": {
      "text/html": [
       "<div>\n",
       "<style scoped>\n",
       "    .dataframe tbody tr th:only-of-type {\n",
       "        vertical-align: middle;\n",
       "    }\n",
       "\n",
       "    .dataframe tbody tr th {\n",
       "        vertical-align: top;\n",
       "    }\n",
       "\n",
       "    .dataframe thead th {\n",
       "        text-align: right;\n",
       "    }\n",
       "</style>\n",
       "<table border=\"1\" class=\"dataframe\">\n",
       "  <thead>\n",
       "    <tr style=\"text-align: right;\">\n",
       "      <th></th>\n",
       "      <th>Rating</th>\n",
       "      <th>Reviews</th>\n",
       "      <th>Size</th>\n",
       "      <th>Installs</th>\n",
       "      <th>Price</th>\n",
       "    </tr>\n",
       "  </thead>\n",
       "  <tbody>\n",
       "    <tr>\n",
       "      <th>Rating</th>\n",
       "      <td>1.000000</td>\n",
       "      <td>0.205919</td>\n",
       "      <td>0.081966</td>\n",
       "      <td>0.050886</td>\n",
       "      <td>-0.022355</td>\n",
       "    </tr>\n",
       "    <tr>\n",
       "      <th>Reviews</th>\n",
       "      <td>0.205919</td>\n",
       "      <td>1.000000</td>\n",
       "      <td>0.378369</td>\n",
       "      <td>0.319092</td>\n",
       "      <td>-0.034644</td>\n",
       "    </tr>\n",
       "    <tr>\n",
       "      <th>Size</th>\n",
       "      <td>0.081966</td>\n",
       "      <td>0.378369</td>\n",
       "      <td>1.000000</td>\n",
       "      <td>0.168872</td>\n",
       "      <td>-0.023767</td>\n",
       "    </tr>\n",
       "    <tr>\n",
       "      <th>Installs</th>\n",
       "      <td>0.050886</td>\n",
       "      <td>0.319092</td>\n",
       "      <td>0.168872</td>\n",
       "      <td>1.000000</td>\n",
       "      <td>-0.011147</td>\n",
       "    </tr>\n",
       "    <tr>\n",
       "      <th>Price</th>\n",
       "      <td>-0.022355</td>\n",
       "      <td>-0.034644</td>\n",
       "      <td>-0.023767</td>\n",
       "      <td>-0.011147</td>\n",
       "      <td>1.000000</td>\n",
       "    </tr>\n",
       "  </tbody>\n",
       "</table>\n",
       "</div>"
      ],
      "text/plain": [
       "            Rating   Reviews      Size  Installs     Price\n",
       "Rating    1.000000  0.205919  0.081966  0.050886 -0.022355\n",
       "Reviews   0.205919  1.000000  0.378369  0.319092 -0.034644\n",
       "Size      0.081966  0.378369  1.000000  0.168872 -0.023767\n",
       "Installs  0.050886  0.319092  0.168872  1.000000 -0.011147\n",
       "Price    -0.022355 -0.034644 -0.023767 -0.011147  1.000000"
      ]
     },
     "execution_count": 209,
     "metadata": {},
     "output_type": "execute_result"
    }
   ],
   "source": [
    "df.corr()"
   ]
  },
  {
   "cell_type": "code",
   "execution_count": 210,
   "id": "05a29d64",
   "metadata": {},
   "outputs": [
    {
     "data": {
      "image/png": "[encoded data removed]",
      "text/plain": [
       "<Figure size 864x864 with 2 Axes>"
      ]
     },
     "metadata": {
      "needs_background": "light"
     },
     "output_type": "display_data"
    }
   ],
   "source": [
    "#correlation map\n",
    "f,ax = plt.subplots(figsize=(12, 12))\n",
    "sns.heatmap(df.corr(), annot=True, linewidths=.5, fmt= '.1f',ax=ax)\n",
    "plt.show()"
   ]
  },
  {
   "cell_type": "markdown",
   "id": "0e6295e6",
   "metadata": {},
   "source": [
    "#### 3. Data Preparation for model building: [ Score: 2 points ]\n",
    "- Drop the columns which you think redundant for the analysis.(suggestion: drop column 'rating', since we\n",
    "created a new feature from it (i.e. rating_category) will use that as target.)\n",
    "- For the target column 'Rating_category' Replace 'high' as 1 and 'low' as 0.\n",
    "- Encode the categorical columns.\n",
    "- Segregate the target and independent features.\n",
    "- Split the dataset into train and test.\n",
    "- Standardize the data, so that the values are within a particular range."
   ]
  },
  {
   "cell_type": "code",
   "execution_count": 211,
   "id": "302d34cc",
   "metadata": {},
   "outputs": [
    {
     "data": {
      "text/plain": [
       "1465"
      ]
     },
     "execution_count": 211,
     "metadata": {},
     "output_type": "execute_result"
    }
   ],
   "source": [
    "df['Rating'].isnull().sum()"
   ]
  },
  {
   "cell_type": "code",
   "execution_count": 212,
   "id": "5c107b99",
   "metadata": {},
   "outputs": [],
   "source": [
    "#dropp Null value\n",
    "df.dropna(inplace = True)"
   ]
  },
  {
   "cell_type": "code",
   "execution_count": 213,
   "id": "d8c0f8a5",
   "metadata": {},
   "outputs": [
    {
     "data": {
      "text/html": [
       "<div>\n",
       "<style scoped>\n",
       "    .dataframe tbody tr th:only-of-type {\n",
       "        vertical-align: middle;\n",
       "    }\n",
       "\n",
       "    .dataframe tbody tr th {\n",
       "        vertical-align: top;\n",
       "    }\n",
       "\n",
       "    .dataframe thead th {\n",
       "        text-align: right;\n",
       "    }\n",
       "</style>\n",
       "<table border=\"1\" class=\"dataframe\">\n",
       "  <thead>\n",
       "    <tr style=\"text-align: right;\">\n",
       "      <th></th>\n",
       "      <th>Category</th>\n",
       "      <th>Reviews</th>\n",
       "      <th>Size</th>\n",
       "      <th>Installs</th>\n",
       "      <th>Price</th>\n",
       "      <th>Content Rating</th>\n",
       "      <th>Genres</th>\n",
       "      <th>Rating_category</th>\n",
       "    </tr>\n",
       "  </thead>\n",
       "  <tbody>\n",
       "    <tr>\n",
       "      <th>0</th>\n",
       "      <td>ART_AND_DESIGN</td>\n",
       "      <td>5.068904</td>\n",
       "      <td>19000000.0</td>\n",
       "      <td>10000.0</td>\n",
       "      <td>0.0</td>\n",
       "      <td>Everyone</td>\n",
       "      <td>Art &amp; Design</td>\n",
       "      <td>high</td>\n",
       "    </tr>\n",
       "    <tr>\n",
       "      <th>1</th>\n",
       "      <td>ART_AND_DESIGN</td>\n",
       "      <td>6.874198</td>\n",
       "      <td>14000000.0</td>\n",
       "      <td>500000.0</td>\n",
       "      <td>0.0</td>\n",
       "      <td>Everyone</td>\n",
       "      <td>Art &amp; Design;Pretend Play</td>\n",
       "      <td>high</td>\n",
       "    </tr>\n",
       "    <tr>\n",
       "      <th>2</th>\n",
       "      <td>ART_AND_DESIGN</td>\n",
       "      <td>11.379508</td>\n",
       "      <td>8700000.0</td>\n",
       "      <td>5000000.0</td>\n",
       "      <td>0.0</td>\n",
       "      <td>Everyone</td>\n",
       "      <td>Art &amp; Design</td>\n",
       "      <td>high</td>\n",
       "    </tr>\n",
       "    <tr>\n",
       "      <th>3</th>\n",
       "      <td>ART_AND_DESIGN</td>\n",
       "      <td>12.281384</td>\n",
       "      <td>25000000.0</td>\n",
       "      <td>50000000.0</td>\n",
       "      <td>0.0</td>\n",
       "      <td>Teen</td>\n",
       "      <td>Art &amp; Design</td>\n",
       "      <td>high</td>\n",
       "    </tr>\n",
       "  </tbody>\n",
       "</table>\n",
       "</div>"
      ],
      "text/plain": [
       "         Category    Reviews        Size    Installs  Price Content Rating  \\\n",
       "0  ART_AND_DESIGN   5.068904  19000000.0     10000.0    0.0       Everyone   \n",
       "1  ART_AND_DESIGN   6.874198  14000000.0    500000.0    0.0       Everyone   \n",
       "2  ART_AND_DESIGN  11.379508   8700000.0   5000000.0    0.0       Everyone   \n",
       "3  ART_AND_DESIGN  12.281384  25000000.0  50000000.0    0.0           Teen   \n",
       "\n",
       "                      Genres Rating_category  \n",
       "0               Art & Design            high  \n",
       "1  Art & Design;Pretend Play            high  \n",
       "2               Art & Design            high  \n",
       "3               Art & Design            high  "
      ]
     },
     "execution_count": 213,
     "metadata": {},
     "output_type": "execute_result"
    }
   ],
   "source": [
    "#model purpose dataset\n",
    "\n",
    "data = df[['Category', 'Reviews', 'Size', 'Installs','Price', 'Content Rating', 'Genres','Rating_category']]\n",
    "data.head(4)"
   ]
  },
  {
   "cell_type": "code",
   "execution_count": 214,
   "id": "f663438a",
   "metadata": {},
   "outputs": [],
   "source": [
    "data['Rating_category'] = np.where(df['Rating_category'] =='high',1 ,0)"
   ]
  },
  {
   "cell_type": "code",
   "execution_count": 215,
   "id": "6aea4b6e",
   "metadata": {},
   "outputs": [],
   "source": [
    "# Encoding vars\n",
    "categorical_cols = ['Category', \"Content Rating\", \"Genres\"]"
   ]
  },
  {
   "cell_type": "code",
   "execution_count": 216,
   "id": "812fd811",
   "metadata": {},
   "outputs": [],
   "source": [
    "df = pd.get_dummies(data, columns= ['Category', \"Content Rating\", \"Genres\"], drop_first = True)"
   ]
  },
  {
   "cell_type": "code",
   "execution_count": 217,
   "id": "e7981e96",
   "metadata": {},
   "outputs": [
    {
     "data": {
      "text/plain": [
       "Index(['Reviews', 'Size', 'Installs', 'Price', 'Rating_category',\n",
       "       'Category_AUTO_AND_VEHICLES', 'Category_BEAUTY',\n",
       "       'Category_BOOKS_AND_REFERENCE', 'Category_BUSINESS', 'Category_COMICS',\n",
       "       ...\n",
       "       'Genres_Strategy;Education', 'Genres_Tools', 'Genres_Travel & Local',\n",
       "       'Genres_Travel & Local;Action & Adventure', 'Genres_Trivia',\n",
       "       'Genres_Video Players & Editors',\n",
       "       'Genres_Video Players & Editors;Creativity',\n",
       "       'Genres_Video Players & Editors;Music & Video', 'Genres_Weather',\n",
       "       'Genres_Word'],\n",
       "      dtype='object', length=153)"
      ]
     },
     "execution_count": 217,
     "metadata": {},
     "output_type": "execute_result"
    }
   ],
   "source": [
    "# Split the dataset into train and test ; Standardize the data,\n",
    "df.columns"
   ]
  },
  {
   "cell_type": "code",
   "execution_count": 218,
   "id": "19e98344",
   "metadata": {},
   "outputs": [],
   "source": [
    "X = df.drop('Rating_category',axis=1)\n",
    "y = df['Rating_category']"
   ]
  },
  {
   "cell_type": "code",
   "execution_count": 219,
   "id": "adfa840b",
   "metadata": {},
   "outputs": [
    {
     "name": "stdout",
     "output_type": "stream",
     "text": [
      "(5192, 152) (2226, 152)\n",
      "(5192,) (2226,)\n"
     ]
    }
   ],
   "source": [
    "X_train, X_test, y_train, y_test = train_test_split(X,y, test_size=0.30, random_state=42)\n",
    "print(X_train.shape,X_test.shape)\n",
    "print(y_train.shape,y_test.shape)"
   ]
  },
  {
   "cell_type": "code",
   "execution_count": 220,
   "id": "34e92cd4",
   "metadata": {},
   "outputs": [],
   "source": [
    "#Standarzation \n",
    "ss = StandardScaler()\n",
    "X_train.iloc[:,:] = ss.fit_transform(X_train.iloc[:,:])\n",
    "X_test.iloc[:,:] = ss.transform(X_test.iloc[:,:])"
   ]
  },
  {
   "cell_type": "code",
   "execution_count": 221,
   "id": "5141f003",
   "metadata": {},
   "outputs": [
    {
     "data": {
      "text/html": [
       "<div>\n",
       "<style scoped>\n",
       "    .dataframe tbody tr th:only-of-type {\n",
       "        vertical-align: middle;\n",
       "    }\n",
       "\n",
       "    .dataframe tbody tr th {\n",
       "        vertical-align: top;\n",
       "    }\n",
       "\n",
       "    .dataframe thead th {\n",
       "        text-align: right;\n",
       "    }\n",
       "</style>\n",
       "<table border=\"1\" class=\"dataframe\">\n",
       "  <thead>\n",
       "    <tr style=\"text-align: right;\">\n",
       "      <th></th>\n",
       "      <th>Reviews</th>\n",
       "      <th>Size</th>\n",
       "      <th>Installs</th>\n",
       "      <th>Price</th>\n",
       "      <th>Category_AUTO_AND_VEHICLES</th>\n",
       "      <th>Category_BEAUTY</th>\n",
       "      <th>Category_BOOKS_AND_REFERENCE</th>\n",
       "      <th>Category_BUSINESS</th>\n",
       "      <th>Category_COMICS</th>\n",
       "      <th>Category_COMMUNICATION</th>\n",
       "      <th>...</th>\n",
       "      <th>Genres_Strategy;Education</th>\n",
       "      <th>Genres_Tools</th>\n",
       "      <th>Genres_Travel &amp; Local</th>\n",
       "      <th>Genres_Travel &amp; Local;Action &amp; Adventure</th>\n",
       "      <th>Genres_Trivia</th>\n",
       "      <th>Genres_Video Players &amp; Editors</th>\n",
       "      <th>Genres_Video Players &amp; Editors;Creativity</th>\n",
       "      <th>Genres_Video Players &amp; Editors;Music &amp; Video</th>\n",
       "      <th>Genres_Weather</th>\n",
       "      <th>Genres_Word</th>\n",
       "    </tr>\n",
       "  </thead>\n",
       "  <tbody>\n",
       "    <tr>\n",
       "      <th>5196</th>\n",
       "      <td>-1.040016</td>\n",
       "      <td>-0.876823</td>\n",
       "      <td>-0.171884</td>\n",
       "      <td>-0.064407</td>\n",
       "      <td>-0.089217</td>\n",
       "      <td>-0.066705</td>\n",
       "      <td>-0.142969</td>\n",
       "      <td>-0.178316</td>\n",
       "      <td>-0.07875</td>\n",
       "      <td>-0.170099</td>\n",
       "      <td>...</td>\n",
       "      <td>-0.01388</td>\n",
       "      <td>-0.310296</td>\n",
       "      <td>-0.144366</td>\n",
       "      <td>-0.01388</td>\n",
       "      <td>-0.065233</td>\n",
       "      <td>-0.124301</td>\n",
       "      <td>-0.01388</td>\n",
       "      <td>-0.01388</td>\n",
       "      <td>-0.08472</td>\n",
       "      <td>-0.057315</td>\n",
       "    </tr>\n",
       "    <tr>\n",
       "      <th>429</th>\n",
       "      <td>1.119373</td>\n",
       "      <td>-0.859608</td>\n",
       "      <td>0.081663</td>\n",
       "      <td>-0.064407</td>\n",
       "      <td>-0.089217</td>\n",
       "      <td>-0.066705</td>\n",
       "      <td>-0.142969</td>\n",
       "      <td>-0.178316</td>\n",
       "      <td>-0.07875</td>\n",
       "      <td>5.878915</td>\n",
       "      <td>...</td>\n",
       "      <td>-0.01388</td>\n",
       "      <td>-0.310296</td>\n",
       "      <td>-0.144366</td>\n",
       "      <td>-0.01388</td>\n",
       "      <td>-0.065233</td>\n",
       "      <td>-0.124301</td>\n",
       "      <td>-0.01388</td>\n",
       "      <td>-0.01388</td>\n",
       "      <td>-0.08472</td>\n",
       "      <td>-0.057315</td>\n",
       "    </tr>\n",
       "    <tr>\n",
       "      <th>3306</th>\n",
       "      <td>0.762480</td>\n",
       "      <td>-0.820874</td>\n",
       "      <td>-0.146531</td>\n",
       "      <td>-0.064407</td>\n",
       "      <td>-0.089217</td>\n",
       "      <td>-0.066705</td>\n",
       "      <td>-0.142969</td>\n",
       "      <td>-0.178316</td>\n",
       "      <td>-0.07875</td>\n",
       "      <td>-0.170099</td>\n",
       "      <td>...</td>\n",
       "      <td>-0.01388</td>\n",
       "      <td>3.222726</td>\n",
       "      <td>-0.144366</td>\n",
       "      <td>-0.01388</td>\n",
       "      <td>-0.065233</td>\n",
       "      <td>-0.124301</td>\n",
       "      <td>-0.01388</td>\n",
       "      <td>-0.01388</td>\n",
       "      <td>-0.08472</td>\n",
       "      <td>-0.057315</td>\n",
       "    </tr>\n",
       "    <tr>\n",
       "      <th>5663</th>\n",
       "      <td>-0.316311</td>\n",
       "      <td>-0.609989</td>\n",
       "      <td>-0.169351</td>\n",
       "      <td>-0.064407</td>\n",
       "      <td>-0.089217</td>\n",
       "      <td>-0.066705</td>\n",
       "      <td>-0.142969</td>\n",
       "      <td>-0.178316</td>\n",
       "      <td>-0.07875</td>\n",
       "      <td>-0.170099</td>\n",
       "      <td>...</td>\n",
       "      <td>-0.01388</td>\n",
       "      <td>-0.310296</td>\n",
       "      <td>-0.144366</td>\n",
       "      <td>-0.01388</td>\n",
       "      <td>-0.065233</td>\n",
       "      <td>-0.124301</td>\n",
       "      <td>-0.01388</td>\n",
       "      <td>-0.01388</td>\n",
       "      <td>-0.08472</td>\n",
       "      <td>-0.057315</td>\n",
       "    </tr>\n",
       "    <tr>\n",
       "      <th>7782</th>\n",
       "      <td>-0.516858</td>\n",
       "      <td>-0.855304</td>\n",
       "      <td>-0.170618</td>\n",
       "      <td>-0.064407</td>\n",
       "      <td>-0.089217</td>\n",
       "      <td>-0.066705</td>\n",
       "      <td>-0.142969</td>\n",
       "      <td>-0.178316</td>\n",
       "      <td>-0.07875</td>\n",
       "      <td>-0.170099</td>\n",
       "      <td>...</td>\n",
       "      <td>-0.01388</td>\n",
       "      <td>3.222726</td>\n",
       "      <td>-0.144366</td>\n",
       "      <td>-0.01388</td>\n",
       "      <td>-0.065233</td>\n",
       "      <td>-0.124301</td>\n",
       "      <td>-0.01388</td>\n",
       "      <td>-0.01388</td>\n",
       "      <td>-0.08472</td>\n",
       "      <td>-0.057315</td>\n",
       "    </tr>\n",
       "  </tbody>\n",
       "</table>\n",
       "<p>5 rows × 152 columns</p>\n",
       "</div>"
      ],
      "text/plain": [
       "       Reviews      Size  Installs     Price  Category_AUTO_AND_VEHICLES  \\\n",
       "5196 -1.040016 -0.876823 -0.171884 -0.064407                   -0.089217   \n",
       "429   1.119373 -0.859608  0.081663 -0.064407                   -0.089217   \n",
       "3306  0.762480 -0.820874 -0.146531 -0.064407                   -0.089217   \n",
       "5663 -0.316311 -0.609989 -0.169351 -0.064407                   -0.089217   \n",
       "7782 -0.516858 -0.855304 -0.170618 -0.064407                   -0.089217   \n",
       "\n",
       "      Category_BEAUTY  Category_BOOKS_AND_REFERENCE  Category_BUSINESS  \\\n",
       "5196        -0.066705                     -0.142969          -0.178316   \n",
       "429         -0.066705                     -0.142969          -0.178316   \n",
       "3306        -0.066705                     -0.142969          -0.178316   \n",
       "5663        -0.066705                     -0.142969          -0.178316   \n",
       "7782        -0.066705                     -0.142969          -0.178316   \n",
       "\n",
       "      Category_COMICS  Category_COMMUNICATION  ...  Genres_Strategy;Education  \\\n",
       "5196         -0.07875               -0.170099  ...                   -0.01388   \n",
       "429          -0.07875                5.878915  ...                   -0.01388   \n",
       "3306         -0.07875               -0.170099  ...                   -0.01388   \n",
       "5663         -0.07875               -0.170099  ...                   -0.01388   \n",
       "7782         -0.07875               -0.170099  ...                   -0.01388   \n",
       "\n",
       "      Genres_Tools  Genres_Travel & Local  \\\n",
       "5196     -0.310296              -0.144366   \n",
       "429      -0.310296              -0.144366   \n",
       "3306      3.222726              -0.144366   \n",
       "5663     -0.310296              -0.144366   \n",
       "7782      3.222726              -0.144366   \n",
       "\n",
       "      Genres_Travel & Local;Action & Adventure  Genres_Trivia  \\\n",
       "5196                                  -0.01388      -0.065233   \n",
       "429                                   -0.01388      -0.065233   \n",
       "3306                                  -0.01388      -0.065233   \n",
       "5663                                  -0.01388      -0.065233   \n",
       "7782                                  -0.01388      -0.065233   \n",
       "\n",
       "      Genres_Video Players & Editors  \\\n",
       "5196                       -0.124301   \n",
       "429                        -0.124301   \n",
       "3306                       -0.124301   \n",
       "5663                       -0.124301   \n",
       "7782                       -0.124301   \n",
       "\n",
       "      Genres_Video Players & Editors;Creativity  \\\n",
       "5196                                   -0.01388   \n",
       "429                                    -0.01388   \n",
       "3306                                   -0.01388   \n",
       "5663                                   -0.01388   \n",
       "7782                                   -0.01388   \n",
       "\n",
       "      Genres_Video Players & Editors;Music & Video  Genres_Weather  \\\n",
       "5196                                      -0.01388        -0.08472   \n",
       "429                                       -0.01388        -0.08472   \n",
       "3306                                      -0.01388        -0.08472   \n",
       "5663                                      -0.01388        -0.08472   \n",
       "7782                                      -0.01388        -0.08472   \n",
       "\n",
       "      Genres_Word  \n",
       "5196    -0.057315  \n",
       "429     -0.057315  \n",
       "3306    -0.057315  \n",
       "5663    -0.057315  \n",
       "7782    -0.057315  \n",
       "\n",
       "[5 rows x 152 columns]"
      ]
     },
     "execution_count": 221,
     "metadata": {},
     "output_type": "execute_result"
    }
   ],
   "source": [
    "X_train.head()"
   ]
  },
  {
   "cell_type": "markdown",
   "id": "fbe412c5",
   "metadata": {},
   "source": [
    "#### 4. Model training, and testing: [ Score: 5 points ]\n",
    "- Write a function to fit and print the model predictions, input parameters would be model, train, and test data.\n",
    "- Use the above function and train a Decision tree, Random Forest, Bagging, Boosting, and Stacked Classifier\n",
    "models and make predictions on test data and evaluate the models."
   ]
  },
  {
   "cell_type": "code",
   "execution_count": 222,
   "id": "4df7cfa6",
   "metadata": {},
   "outputs": [],
   "source": [
    " # take the model, and data as inputs\n",
    "def fit_n_print(model, X_train, X_test, y_train, y_test): \n",
    "    \n",
    "    # fit the model with the train data\n",
    "    model.fit(X_train, y_train)   \n",
    "    # make predictions on the test set\n",
    "    pred = model.predict(X_test)  \n",
    "    train_score = model.score(X_train, y_train)\n",
    "    test_score = model.score(X_test, y_test)\n",
    "\n",
    "    print('\\033[1;46;13m Train accuracy: \\033[0;0m',train_score)\n",
    "    print('\\033[1;46;13m Test accuracy: \\033[0;0m',test_score)\n",
    "    print('\\n')\n",
    "    print('\\033[1;46;13m Confusion matrix: \\033[0;0m','\\n',confusion_matrix(y_test, pred))\n",
    "    print('\\n')\n",
    "    print('\\033[1;46;13m Classification report: \\033[0;0m','\\n',classification_report(y_test, pred))"
   ]
  },
  {
   "cell_type": "code",
   "execution_count": 223,
   "id": "720efa43",
   "metadata": {},
   "outputs": [
    {
     "name": "stdout",
     "output_type": "stream",
     "text": [
      "\u001b[1;46;13m Train accuracy: \u001b[0;0m 1.0\n",
      "\u001b[1;46;13m Test accuracy: \u001b[0;0m 0.8333333333333334\n",
      "\n",
      "\n",
      "\u001b[1;46;13m Confusion matrix: \u001b[0;0m \n",
      " [[  63  181]\n",
      " [ 190 1792]]\n",
      "\n",
      "\n",
      "\u001b[1;46;13m Classification report: \u001b[0;0m \n",
      "               precision    recall  f1-score   support\n",
      "\n",
      "           0       0.25      0.26      0.25       244\n",
      "           1       0.91      0.90      0.91      1982\n",
      "\n",
      "    accuracy                           0.83      2226\n",
      "   macro avg       0.58      0.58      0.58      2226\n",
      "weighted avg       0.84      0.83      0.83      2226\n",
      "\n"
     ]
    }
   ],
   "source": [
    "## instantiate \n",
    "dt = DecisionTreeClassifier()\n",
    "\n",
    "## call the function\n",
    "fit_n_print(dt, X_train, X_test, y_train, y_test)"
   ]
  },
  {
   "cell_type": "code",
   "execution_count": null,
   "id": "ee1b2d9f",
   "metadata": {},
   "outputs": [],
   "source": [
    "## instanstiate\n",
    "rf = RandomForestClassifier()\n",
    "\n",
    "## call the function\n",
    "fit_n_print(rf, X_train, X_test, y_train, y_test)"
   ]
  },
  {
   "cell_type": "code",
   "execution_count": null,
   "id": "74833f0e",
   "metadata": {},
   "outputs": [],
   "source": [
    "## instanstiate\n",
    "bg = BaggingClassifier()\n",
    "\n",
    "## call the function\n",
    "fit_n_print(bg, X_train, X_test, y_train, y_test)"
   ]
  },
  {
   "cell_type": "code",
   "execution_count": null,
   "id": "a05f2bba",
   "metadata": {},
   "outputs": [],
   "source": [
    "## instanstiate \n",
    "gb = GradientBoostingClassifier()\n",
    "\n",
    "## call the function\n",
    "fit_n_print(gb, X_train, X_test, y_train, y_test)"
   ]
  },
  {
   "cell_type": "code",
   "execution_count": null,
   "id": "e6d5cb4d",
   "metadata": {},
   "outputs": [],
   "source": [
    "## instanstiate\n",
    "ab = AdaBoostClassifier()\n",
    "\n",
    "## call the function\n",
    "fit_n_print(ab, X_train, X_test, y_train, y_test)"
   ]
  },
  {
   "cell_type": "code",
   "execution_count": null,
   "id": "8abdb310",
   "metadata": {},
   "outputs": [],
   "source": [
    "## instantiate\n",
    "estimators = [('dt', dt), ('rf', rf), ('bg', bg), ('gb', gb), ('ab', ab)]\n",
    "clf = StackingClassifier(estimators = estimators, final_estimator = rf)\n",
    "\n",
    "## call the function\n",
    "fit_n_print(clf, X_train, X_test, y_train, y_test)"
   ]
  },
  {
   "cell_type": "markdown",
   "id": "e6be4e80",
   "metadata": {},
   "source": [
    "5. Conclusion and improvisation: [ Score: 2 point ]\n",
    "- Comparing all algorithms we find that Gradient Boosting gave best prediction\n",
    "- We can do Cross Validataion and hyperparameter tuning to get the better accuracy for our model.\n",
    "- Also we have to give the feature importance as we have around 152 features in our hand.\n",
    "- Those three processes can help our model get better results. \n"
   ]
  }
 ],
 "metadata": {
  "kernelspec": {
   "display_name": "Python 3",
   "language": "python",
   "name": "python3"
  },
  "language_info": {
   "codemirror_mode": {
    "name": "ipython",
    "version": 3
   },
   "file_extension": ".py",
   "mimetype": "text/x-python",
   "name": "python",
   "nbconvert_exporter": "python",
   "pygments_lexer": "ipython3",
   "version": "3.8.8"
  }
 },
 "nbformat": 4,
 "nbformat_minor": 5
}
